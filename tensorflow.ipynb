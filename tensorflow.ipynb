{
 "cells": [
  {
   "cell_type": "code",
   "execution_count": 1,
   "metadata": {},
   "outputs": [
    {
     "ename": "SyntaxError",
     "evalue": "invalid syntax (pywrap_tensorflow_internal.py, line 114)",
     "output_type": "error",
     "traceback": [
      "Traceback \u001b[1;36m(most recent call last)\u001b[0m:\n",
      "\u001b[0m  File \u001b[0;32m~\\AppData\\Roaming\\Python\\Python311\\site-packages\\IPython\\core\\interactiveshell.py:3433\u001b[0m in \u001b[0;35mrun_code\u001b[0m\n    exec(code_obj, self.user_global_ns, self.user_ns)\u001b[0m\n",
      "\u001b[0m  Cell \u001b[0;32mIn [1], line 2\u001b[0m\n    import tensorflow as tf\u001b[0m\n",
      "\u001b[0m  File \u001b[0;32mc:\\Users\\joshu\\AppData\\Local\\Programs\\Python\\Python311\\Lib\\site-packages\\tensorflow\\__init__.py:24\u001b[0m\n    from tensorflow.python import pywrap_tensorflow  # pylint: disable=unused-import\u001b[0m\n",
      "\u001b[0m  File \u001b[0;32mc:\\Users\\joshu\\AppData\\Local\\Programs\\Python\\Python311\\Lib\\site-packages\\tensorflow\\python\\__init__.py:49\u001b[0m\n    from tensorflow.python import pywrap_tensorflow\u001b[0m\n",
      "\u001b[1;36m  File \u001b[1;32mc:\\Users\\joshu\\AppData\\Local\\Programs\\Python\\Python311\\Lib\\site-packages\\tensorflow\\python\\pywrap_tensorflow.py:58\u001b[1;36m\n\u001b[1;33m    from tensorflow.python.pywrap_tensorflow_internal import *\u001b[1;36m\n",
      "\u001b[1;36m  File \u001b[1;32mc:\\Users\\joshu\\AppData\\Local\\Programs\\Python\\Python311\\Lib\\site-packages\\tensorflow\\python\\pywrap_tensorflow_internal.py:114\u001b[1;36m\u001b[0m\n\u001b[1;33m    def TFE_ContextOptionsSetAsync(arg1, async):\u001b[0m\n\u001b[1;37m                                         ^\u001b[0m\n\u001b[1;31mSyntaxError\u001b[0m\u001b[1;31m:\u001b[0m invalid syntax\n"
     ]
    }
   ],
   "source": [
    "import numpy\n",
    "import tensorflow as tf\n"
   ]
  }
 ],
 "metadata": {
  "kernelspec": {
   "display_name": "Python 3.11.0 64-bit",
   "language": "python",
   "name": "python3"
  },
  "language_info": {
   "codemirror_mode": {
    "name": "ipython",
    "version": 3
   },
   "file_extension": ".py",
   "mimetype": "text/x-python",
   "name": "python",
   "nbconvert_exporter": "python",
   "pygments_lexer": "ipython3",
   "version": "3.11.0"
  },
  "orig_nbformat": 4,
  "vscode": {
   "interpreter": {
    "hash": "728bdc88530a0433627bb913cdc158b4b0177f14cdb36101fd2c9ed8a6bc8dcc"
   }
  }
 },
 "nbformat": 4,
 "nbformat_minor": 2
}
